{
 "cells": [
  {
   "cell_type": "code",
   "execution_count": null,
   "id": "49fb6086-488f-4a1c-a85c-845faf428c77",
   "metadata": {},
   "outputs": [],
   "source": [
    "# linear probing : open addressing, not adding the key value pair in the HT at the same address, walk through the HT find an empty address and add the key value pair \n",
    "# in the empty address\n",
    "# free forming, having a linked list in the address and walking through the linked list to get to the specified key and return the value, or create a new node in the \n",
    "# linked list if the key doesn't exist\n",
    "\n"
   ]
  }
 ],
 "metadata": {
  "kernelspec": {
   "display_name": "Python 3 (ipykernel)",
   "language": "python",
   "name": "python3"
  },
  "language_info": {
   "codemirror_mode": {
    "name": "ipython",
    "version": 3
   },
   "file_extension": ".py",
   "mimetype": "text/x-python",
   "name": "python",
   "nbconvert_exporter": "python",
   "pygments_lexer": "ipython3",
   "version": "3.13.5"
  }
 },
 "nbformat": 4,
 "nbformat_minor": 5
}
