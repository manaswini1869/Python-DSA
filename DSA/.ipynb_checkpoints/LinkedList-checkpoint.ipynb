{
 "cells": [
  {
   "cell_type": "code",
   "execution_count": 1,
   "id": "60ee2482-09db-4283-bd68-5eb7f4d4d2e9",
   "metadata": {},
   "outputs": [],
   "source": [
    "# head and tail, last one point to none, in memory the nodes are spread out and the nodes \n",
    "# are connected to the memory \n",
    "# Lists are stored contiguously in memory "
   ]
  },
  {
   "cell_type": "code",
   "execution_count": 2,
   "id": "9542d592-d998-4826-8354-aa0e8891da74",
   "metadata": {},
   "outputs": [],
   "source": [
    "# adding to the list at the end, "
   ]
  },
  {
   "cell_type": "code",
   "execution_count": 14,
   "id": "6f151cc7-f1d1-4822-97f6-1e782644477f",
   "metadata": {},
   "outputs": [],
   "source": [
    "class Node:\n",
    "    def __init__(self, value):\n",
    "        self.value = value\n",
    "        self.next = None\n",
    "\n",
    "class LinkedList:\n",
    "    def __init__(self, value):\n",
    "        new_node = Node(value)\n",
    "        self.head = new_node\n",
    "        self.tail = new_node\n",
    "        self.length = 1\n",
    "\n",
    "    def print_list(self):\n",
    "        tmp = self.head\n",
    "        while tmp is not None:\n",
    "            print(tmp.value)\n",
    "            tmp = tmp.next\n",
    "\n",
    "    def append(self, value):\n",
    "        new_node = Node(value)\n",
    "        if self.head is None:\n",
    "            self.head = new_node\n",
    "            self.tail = new_node\n",
    "        else:\n",
    "            self.tail.next = new_node\n",
    "            self.tail = new_node\n",
    "        self.length += 1\n",
    "        return True\n",
    "\n",
    "    def pop(self):\n",
    "        if self.head is None:\n",
    "            return False\n",
    "\n",
    "        if self.head == self.tail:\n",
    "            value = self.head.value\n",
    "            self.head = None\n",
    "            self.tail = None\n",
    "            return value\n",
    "\n",
    "        tmp = self.head\n",
    "        while tmp.next != self.tail:\n",
    "            tmp = tmp.next\n",
    "    \n",
    "        value = self.tail.value\n",
    "        self.tail = tmp\n",
    "        self.tail.next = None\n",
    "        self.length -= 1\n",
    "        return value\n",
    "\n",
    "    def pop_first(self):\n",
    "        if self.head is None:\n",
    "            return False\n",
    "\n",
    "        tmp = self.head\n",
    "        self.head = tmp.next\n",
    "        tmp.next = None\n",
    "        self.length -= 1\n",
    "        if self.length == 0:\n",
    "            self.tail = None\n",
    "        return tmp\n",
    "            \n",
    "    def prepend(self, value):\n",
    "        new_node = Node(value)\n",
    "        if self.length == 0:\n",
    "            self.head = new_node\n",
    "            self.tail = new_node\n",
    "        else:\n",
    "            new_node.next = self.head\n",
    "            self.head = new_node\n",
    "        self.length += 1\n",
    "        return True\n",
    "\n",
    "    def get(self, index):\n",
    "        if index < 0 or index >= self.length:\n",
    "            return None\n",
    "\n",
    "        tmp = self.head\n",
    "        for _ in range(index):\n",
    "            tmp = tmp.next\n",
    "        return tmp.value\n",
    "\n",
    "    # def insert(self, value):"
   ]
  },
  {
   "cell_type": "code",
   "execution_count": 15,
   "id": "a4356cf9-de24-4639-88d3-2c73a2f25b00",
   "metadata": {},
   "outputs": [
    {
     "data": {
      "text/plain": [
       "True"
      ]
     },
     "execution_count": 15,
     "metadata": {},
     "output_type": "execute_result"
    }
   ],
   "source": [
    "my_linked_list = LinkedList(4)\n",
    "my_linked_list.append(2)"
   ]
  },
  {
   "cell_type": "code",
   "execution_count": 16,
   "id": "66201055-3515-4a67-985b-3d72150b0e1c",
   "metadata": {},
   "outputs": [
    {
     "name": "stdout",
     "output_type": "stream",
     "text": [
      "4\n",
      "2\n"
     ]
    }
   ],
   "source": [
    "my_linked_list.print_list()"
   ]
  },
  {
   "cell_type": "code",
   "execution_count": 17,
   "id": "e5545754-cd7c-4a1b-878e-5edf2e8f29ec",
   "metadata": {},
   "outputs": [],
   "source": [
    "# my_linked_list.pop()"
   ]
  },
  {
   "cell_type": "code",
   "execution_count": 18,
   "id": "02eec0af-8d79-4596-946f-c4cc36729db8",
   "metadata": {},
   "outputs": [],
   "source": [
    "# my_linked_list.pop()"
   ]
  },
  {
   "cell_type": "code",
   "execution_count": 19,
   "id": "55a1f743-0fd5-462d-b5f9-c502b89effdf",
   "metadata": {},
   "outputs": [],
   "source": [
    "# my_linked_list.pop()"
   ]
  },
  {
   "cell_type": "code",
   "execution_count": 20,
   "id": "effac2db-65db-48d8-bf53-1f86d2d05c73",
   "metadata": {},
   "outputs": [
    {
     "data": {
      "text/plain": [
       "True"
      ]
     },
     "execution_count": 20,
     "metadata": {},
     "output_type": "execute_result"
    }
   ],
   "source": [
    "my_linked_list.prepend(3)"
   ]
  },
  {
   "cell_type": "code",
   "execution_count": 21,
   "id": "13b41f63-d381-4e76-a41a-d49a87d7f39c",
   "metadata": {},
   "outputs": [
    {
     "name": "stdout",
     "output_type": "stream",
     "text": [
      "3\n",
      "4\n",
      "2\n"
     ]
    }
   ],
   "source": [
    "my_linked_list.print_list()"
   ]
  },
  {
   "cell_type": "code",
   "execution_count": null,
   "id": "fc9b7ddc-1aa3-4b28-923b-e55d6dc24429",
   "metadata": {},
   "outputs": [],
   "source": []
  }
 ],
 "metadata": {
  "kernelspec": {
   "display_name": "Python 3 (ipykernel)",
   "language": "python",
   "name": "python3"
  },
  "language_info": {
   "codemirror_mode": {
    "name": "ipython",
    "version": 3
   },
   "file_extension": ".py",
   "mimetype": "text/x-python",
   "name": "python",
   "nbconvert_exporter": "python",
   "pygments_lexer": "ipython3",
   "version": "3.13.5"
  }
 },
 "nbformat": 4,
 "nbformat_minor": 5
}
