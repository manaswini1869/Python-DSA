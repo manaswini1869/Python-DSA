{
 "cells": [
  {
   "cell_type": "code",
   "execution_count": 1,
   "id": "e0ea4f84-aa1f-4afb-8185-b11589809fae",
   "metadata": {},
   "outputs": [],
   "source": [
    "# directional graphs, \n",
    "# adjacency matrix : "
   ]
  },
  {
   "cell_type": "code",
   "execution_count": null,
   "id": "a83c7318-7bd4-4099-b58b-63bd20f76fe8",
   "metadata": {},
   "outputs": [],
   "source": []
  },
  {
   "cell_type": "code",
   "execution_count": 3,
   "id": "4020f7d7-7085-4608-9b4f-242157cbd98e",
   "metadata": {},
   "outputs": [
    {
     "name": "stdout",
     "output_type": "stream",
     "text": [
      "Graph before remove_vertex():\n",
      "A : ['B', 'C', 'D']\n",
      "B : ['A', 'D']\n",
      "C : ['A', 'D']\n",
      "D : ['A', 'B', 'C']\n",
      "\n",
      "Graph after remove_vertex():\n",
      "A : ['B', 'C']\n",
      "B : ['A']\n",
      "C : ['A']\n"
     ]
    },
    {
     "data": {
      "text/plain": [
       "\"\\n    EXPECTED OUTPUT:\\n    ----------------\\n    Graph before remove_vertex():\\n    A : ['B', 'C', 'D']\\n    B : ['A', 'D']\\n    C : ['A', 'D']\\n    D : ['A', 'B', 'C']\\n\\n    Graph after remove_vertex():\\n    A : ['B', 'C']\\n    B : ['A']\\n    C : ['A']\\n\\n\""
      ]
     },
     "execution_count": 3,
     "metadata": {},
     "output_type": "execute_result"
    }
   ],
   "source": [
    "class Graph:\n",
    "    def __init__(self):\n",
    "        self.adj_list = {}\n",
    "\n",
    "    def print_graph(self):\n",
    "        v_list = []\n",
    "        for vertex in self.adj_list:\n",
    "            v_list.append(vertex)\n",
    "        v_list.sort()\n",
    "        for v in v_list:\n",
    "            print(v, ':', self.adj_list[v])\n",
    "\n",
    "    def add_vertex(self, vertex):\n",
    "        if vertex not in self.adj_list.keys():\n",
    "            self.adj_list[vertex] = []\n",
    "            return True\n",
    "        return False\n",
    "\n",
    "    def add_edge(self, v1, v2):\n",
    "        if v1 in self.adj_list.keys() and v2 in self.adj_list.keys():\n",
    "            self.adj_list[v1].append(v2)\n",
    "            self.adj_list[v2].append(v1)\n",
    "            return True\n",
    "        return False\n",
    "\n",
    "    def remove_edge(self, v1, v2):\n",
    "        if v1 in self.adj_list.keys() and v2 in self.adj_list.keys(): \n",
    "            try:\n",
    "                self.adj_list[v1].remove(v2)\n",
    "                self.adj_list[v2].remove(v1)\n",
    "            except ValueError:\n",
    "                pass\n",
    "            return True\n",
    "        return False\n",
    "\n",
    "    def remove_vertex(self, v1):\n",
    "        if v1 in self.adj_list:\n",
    "            values = self.adj_list[v1]\n",
    "            for v in values:\n",
    "                self.adj_list[v].remove(v1)\n",
    "            del self.adj_list[v1]\n",
    "            return True\n",
    "        return False\n",
    "\n",
    "\n",
    "\n",
    "\n",
    "my_graph = Graph()\n",
    "my_graph.add_vertex('A')\n",
    "my_graph.add_vertex('B')\n",
    "my_graph.add_vertex('C')\n",
    "my_graph.add_vertex('D')\n",
    "\n",
    "my_graph.add_edge('A','B')\n",
    "my_graph.add_edge('A','C')\n",
    "my_graph.add_edge('A','D')\n",
    "my_graph.add_edge('B','D')\n",
    "my_graph.add_edge('C','D')\n",
    "\n",
    "\n",
    "print('Graph before remove_vertex():')\n",
    "my_graph.print_graph()\n",
    "\n",
    "\n",
    "my_graph.remove_vertex('D')\n",
    "\n",
    "\n",
    "print('\\nGraph after remove_vertex():')\n",
    "my_graph.print_graph()\n",
    "\n",
    "\n",
    "\n",
    "\"\"\"\n",
    "    EXPECTED OUTPUT:\n",
    "    ----------------\n",
    "    Graph before remove_vertex():\n",
    "    A : ['B', 'C', 'D']\n",
    "    B : ['A', 'D']\n",
    "    C : ['A', 'D']\n",
    "    D : ['A', 'B', 'C']\n",
    "\n",
    "    Graph after remove_vertex():\n",
    "    A : ['B', 'C']\n",
    "    B : ['A']\n",
    "    C : ['A']\n",
    "\n",
    "\"\"\""
   ]
  },
  {
   "cell_type": "code",
   "execution_count": null,
   "id": "df87ffb5-be5a-4607-9cb7-44d3b97a9ce9",
   "metadata": {},
   "outputs": [],
   "source": []
  }
 ],
 "metadata": {
  "kernelspec": {
   "display_name": "Python 3 (ipykernel)",
   "language": "python",
   "name": "python3"
  },
  "language_info": {
   "codemirror_mode": {
    "name": "ipython",
    "version": 3
   },
   "file_extension": ".py",
   "mimetype": "text/x-python",
   "name": "python",
   "nbconvert_exporter": "python",
   "pygments_lexer": "ipython3",
   "version": "3.13.5"
  }
 },
 "nbformat": 4,
 "nbformat_minor": 5
}
