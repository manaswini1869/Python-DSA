{
 "cells": [
  {
   "cell_type": "code",
   "execution_count": 1,
   "id": "048c9c6c-7a92-4d24-af16-2bf6912a8af0",
   "metadata": {},
   "outputs": [
    {
     "name": "stdout",
     "output_type": "stream",
     "text": [
      "140716169671912 140716169671912\n"
     ]
    }
   ],
   "source": [
    "num1 = 11\n",
    "num2 = num1\n",
    "\n",
    "print(id(num1), id(num2))"
   ]
  },
  {
   "cell_type": "code",
   "execution_count": 2,
   "id": "aa38eddc-4c7a-43c4-907e-987e075bbdd9",
   "metadata": {},
   "outputs": [],
   "source": [
    "num2 = 22"
   ]
  },
  {
   "cell_type": "code",
   "execution_count": 3,
   "id": "a4c38c40-f831-458e-8553-91bb2618d2d4",
   "metadata": {},
   "outputs": [
    {
     "name": "stdout",
     "output_type": "stream",
     "text": [
      "140716169671912 140716169672264\n"
     ]
    }
   ],
   "source": [
    "print(id(num1), id(num2))"
   ]
  },
  {
   "cell_type": "code",
   "execution_count": null,
   "id": "8d6122d1-c683-4e7c-9134-127713c722f8",
   "metadata": {},
   "outputs": [],
   "source": []
  }
 ],
 "metadata": {
  "kernelspec": {
   "display_name": "Python 3 (ipykernel)",
   "language": "python",
   "name": "python3"
  },
  "language_info": {
   "codemirror_mode": {
    "name": "ipython",
    "version": 3
   },
   "file_extension": ".py",
   "mimetype": "text/x-python",
   "name": "python",
   "nbconvert_exporter": "python",
   "pygments_lexer": "ipython3",
   "version": "3.13.5"
  }
 },
 "nbformat": 4,
 "nbformat_minor": 5
}
