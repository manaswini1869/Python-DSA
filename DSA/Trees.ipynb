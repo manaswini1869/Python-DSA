{
 "cells": [
  {
   "cell_type": "code",
   "execution_count": null,
   "id": "a9513e89-b2e7-4366-9197-650423893055",
   "metadata": {},
   "outputs": [],
   "source": [
    "# trees\n",
    "# binary trees only points to two other nodes, full binary tree is something where all the node have two children\n",
    "# perfect tree is where all the children in the tree have two other children and complete, you are adding the nodes left to right\n",
    "# nodes with no children are called the leaf nodes\n",
    "# BST : in bianry search tree, the child node value greater than parent does to the right and less goes to the left \n",
    "# Big O for BSt : lookup, insert, remove O(log(n)) \n",
    "\n",
    "\n",
    "\n",
    "\n"
   ]
  }
 ],
 "metadata": {
  "kernelspec": {
   "display_name": "Python 3 (ipykernel)",
   "language": "python",
   "name": "python3"
  },
  "language_info": {
   "codemirror_mode": {
    "name": "ipython",
    "version": 3
   },
   "file_extension": ".py",
   "mimetype": "text/x-python",
   "name": "python",
   "nbconvert_exporter": "python",
   "pygments_lexer": "ipython3",
   "version": "3.13.5"
  }
 },
 "nbformat": 4,
 "nbformat_minor": 5
}
