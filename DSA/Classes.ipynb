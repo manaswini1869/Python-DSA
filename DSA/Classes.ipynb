{
 "cells": [
  {
   "cell_type": "code",
   "execution_count": 1,
   "id": "a23d82d5-7467-4fc7-82a5-dcb3650bfff1",
   "metadata": {},
   "outputs": [],
   "source": [
    "class Cookies:\n",
    "    def __init__(self, color):\n",
    "        self.color = color\n",
    "\n",
    "    def get_color(self):\n",
    "        return self.color\n",
    "\n",
    "    def set_color(self, color):\n",
    "        self.color = color"
   ]
  },
  {
   "cell_type": "code",
   "execution_count": 3,
   "id": "4d177b77-2b8e-4383-b010-38439f5a3210",
   "metadata": {},
   "outputs": [],
   "source": [
    "cookie_one = Cookies('green')\n",
    "cookie_two = Cookies('blue')"
   ]
  },
  {
   "cell_type": "raw",
   "id": "beb9e96a-4ec1-4bae-8974-142d1bbe2685",
   "metadata": {},
   "source": [
    "cookie_one.get_color()"
   ]
  },
  {
   "cell_type": "code",
   "execution_count": 4,
   "id": "9e949684-cc47-4410-ad89-75d83bb78618",
   "metadata": {},
   "outputs": [
    {
     "data": {
      "text/plain": [
       "'green'"
      ]
     },
     "execution_count": 4,
     "metadata": {},
     "output_type": "execute_result"
    }
   ],
   "source": [
    "cookie_one.get_color()"
   ]
  },
  {
   "cell_type": "code",
   "execution_count": 5,
   "id": "7148672d-bf54-4173-84b5-821d32b2a360",
   "metadata": {},
   "outputs": [],
   "source": [
    "cookie_one.set_color('yellow')"
   ]
  },
  {
   "cell_type": "code",
   "execution_count": 6,
   "id": "19b2898e-fa49-4f52-a075-d1659bc2825a",
   "metadata": {},
   "outputs": [
    {
     "data": {
      "text/plain": [
       "'yellow'"
      ]
     },
     "execution_count": 6,
     "metadata": {},
     "output_type": "execute_result"
    }
   ],
   "source": [
    "cookie_one.get_color()"
   ]
  },
  {
   "cell_type": "code",
   "execution_count": null,
   "id": "dfcdbb8e-c58b-4235-8b53-4c6c13ff2a23",
   "metadata": {},
   "outputs": [],
   "source": []
  }
 ],
 "metadata": {
  "kernelspec": {
   "display_name": "Python 3 (ipykernel)",
   "language": "python",
   "name": "python3"
  },
  "language_info": {
   "codemirror_mode": {
    "name": "ipython",
    "version": 3
   },
   "file_extension": ".py",
   "mimetype": "text/x-python",
   "name": "python",
   "nbconvert_exporter": "python",
   "pygments_lexer": "ipython3",
   "version": "3.13.5"
  }
 },
 "nbformat": 4,
 "nbformat_minor": 5
}
