{
 "cells": [
  {
   "cell_type": "code",
   "execution_count": 1,
   "id": "bc671ba3-a8a1-4ab3-ba9b-4233c71fee9d",
   "metadata": {},
   "outputs": [],
   "source": [
    "def myfunc(**kwargs):\n",
    "    print(kwargs)"
   ]
  },
  {
   "cell_type": "code",
   "execution_count": 4,
   "id": "c270dcb3-c541-461a-9a86-dc1538c2b0a0",
   "metadata": {},
   "outputs": [
    {
     "name": "stdout",
     "output_type": "stream",
     "text": [
      "{'apple': 'helloe'}\n"
     ]
    }
   ],
   "source": [
    "myfunc(apple='helloe')"
   ]
  },
  {
   "cell_type": "code",
   "execution_count": null,
   "id": "5bf2fe20-fde4-486f-8072-461be7f7982c",
   "metadata": {},
   "outputs": [],
   "source": []
  }
 ],
 "metadata": {
  "kernelspec": {
   "display_name": "Python 3 (ipykernel)",
   "language": "python",
   "name": "python3"
  },
  "language_info": {
   "codemirror_mode": {
    "name": "ipython",
    "version": 3
   },
   "file_extension": ".py",
   "mimetype": "text/x-python",
   "name": "python",
   "nbconvert_exporter": "python",
   "pygments_lexer": "ipython3",
   "version": "3.13.5"
  }
 },
 "nbformat": 4,
 "nbformat_minor": 5
}
